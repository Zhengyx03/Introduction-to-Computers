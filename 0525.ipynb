{
  "nbformat": 4,
  "nbformat_minor": 0,
  "metadata": {
    "colab": {
      "name": "0525.ipynb",
      "provenance": [],
      "authorship_tag": "ABX9TyMcTrupYVgC8UOjKPJDH3ls",
      "include_colab_link": true
    },
    "kernelspec": {
      "name": "python3",
      "display_name": "Python 3"
    },
    "language_info": {
      "name": "python"
    }
  },
  "cells": [
    {
      "cell_type": "markdown",
      "metadata": {
        "id": "view-in-github",
        "colab_type": "text"
      },
      "source": [
        "<a href=\"https://colab.research.google.com/github/Zhengyx03/Introduction-to-Computers/blob/main/0525.ipynb\" target=\"_parent\"><img src=\"https://colab.research.google.com/assets/colab-badge.svg\" alt=\"Open In Colab\"/></a>"
      ]
    },
    {
      "cell_type": "code",
      "execution_count": null,
      "metadata": {
        "colab": {
          "base_uri": "https://localhost:8080/"
        },
        "id": "TatdMLVEjyc5",
        "outputId": "69939155-4a90-41e6-da5e-f2cac1cac76b"
      },
      "outputs": [
        {
          "output_type": "stream",
          "name": "stdout",
          "text": [
            "test\n"
          ]
        }
      ],
      "source": [
        "print(\"test\")"
      ]
    },
    {
      "cell_type": "code",
      "source": [
        "test = int(input(\"請輸入一個正整數:\"))\n",
        "sum=0\n",
        "for n in range(test+1):\n",
        "  sum=sum+n\n",
        "print(\"1到\",test,\"的整數合為\" ,sum )"
      ],
      "metadata": {
        "colab": {
          "base_uri": "https://localhost:8080/"
        },
        "id": "9s85OQSjl8oJ",
        "outputId": "62dfb650-eb60-4042-ff29-1549af7ed37b"
      },
      "execution_count": null,
      "outputs": [
        {
          "output_type": "stream",
          "name": "stdout",
          "text": [
            "請輸入一個正整數:50\n",
            "1到 50 的整數合為 1275\n"
          ]
        }
      ]
    },
    {
      "cell_type": "code",
      "source": [
        "sum = 0\n",
        "for z in range(int(input(\"請輸入一個正整數：\"))):\n",
        "  sum = sum+z+1\n",
        "  print(\"1到\",z+1,\"的整數和為:\",sum)\n"
      ],
      "metadata": {
        "colab": {
          "base_uri": "https://localhost:8080/"
        },
        "id": "m6kctI9Sl8qX",
        "outputId": "0be5ef09-f337-409d-84ab-5ef17af244a7"
      },
      "execution_count": 5,
      "outputs": [
        {
          "output_type": "stream",
          "name": "stdout",
          "text": [
            "請輸入一個正整數：50\n",
            "1到 1 的整數和為: 1\n",
            "1到 2 的整數和為: 3\n",
            "1到 3 的整數和為: 6\n",
            "1到 4 的整數和為: 10\n",
            "1到 5 的整數和為: 15\n",
            "1到 6 的整數和為: 21\n",
            "1到 7 的整數和為: 28\n",
            "1到 8 的整數和為: 36\n",
            "1到 9 的整數和為: 45\n",
            "1到 10 的整數和為: 55\n",
            "1到 11 的整數和為: 66\n",
            "1到 12 的整數和為: 78\n",
            "1到 13 的整數和為: 91\n",
            "1到 14 的整數和為: 105\n",
            "1到 15 的整數和為: 120\n",
            "1到 16 的整數和為: 136\n",
            "1到 17 的整數和為: 153\n",
            "1到 18 的整數和為: 171\n",
            "1到 19 的整數和為: 190\n",
            "1到 20 的整數和為: 210\n",
            "1到 21 的整數和為: 231\n",
            "1到 22 的整數和為: 253\n",
            "1到 23 的整數和為: 276\n",
            "1到 24 的整數和為: 300\n",
            "1到 25 的整數和為: 325\n",
            "1到 26 的整數和為: 351\n",
            "1到 27 的整數和為: 378\n",
            "1到 28 的整數和為: 406\n",
            "1到 29 的整數和為: 435\n",
            "1到 30 的整數和為: 465\n",
            "1到 31 的整數和為: 496\n",
            "1到 32 的整數和為: 528\n",
            "1到 33 的整數和為: 561\n",
            "1到 34 的整數和為: 595\n",
            "1到 35 的整數和為: 630\n",
            "1到 36 的整數和為: 666\n",
            "1到 37 的整數和為: 703\n",
            "1到 38 的整數和為: 741\n",
            "1到 39 的整數和為: 780\n",
            "1到 40 的整數和為: 820\n",
            "1到 41 的整數和為: 861\n",
            "1到 42 的整數和為: 903\n",
            "1到 43 的整數和為: 946\n",
            "1到 44 的整數和為: 990\n",
            "1到 45 的整數和為: 1035\n",
            "1到 46 的整數和為: 1081\n",
            "1到 47 的整數和為: 1128\n",
            "1到 48 的整數和為: 1176\n",
            "1到 49 的整數和為: 1225\n",
            "1到 50 的整數和為: 1275\n"
          ]
        }
      ]
    },
    {
      "cell_type": "code",
      "source": [
        "for j in range(1,5):\n",
        "  print(j)\n",
        "  for i in range(1,3):\n",
        "    k=i*j\n",
        "    print(j,\"*\",i,\"=\",k)"
      ],
      "metadata": {
        "colab": {
          "base_uri": "https://localhost:8080/"
        },
        "id": "LWIg19esl8sv",
        "outputId": "3d46099f-6682-4cc2-81ff-a63e87f18a02"
      },
      "execution_count": null,
      "outputs": [
        {
          "output_type": "stream",
          "name": "stdout",
          "text": [
            "1\n",
            "1 * 1 = 1\n",
            "1 * 2 = 2\n",
            "2\n",
            "2 * 1 = 2\n",
            "2 * 2 = 4\n",
            "3\n",
            "3 * 1 = 3\n",
            "3 * 2 = 6\n",
            "4\n",
            "4 * 1 = 4\n",
            "4 * 2 = 8\n"
          ]
        }
      ]
    },
    {
      "cell_type": "code",
      "source": [
        "for i in range(1,5):\n",
        "  if(i==3):\n",
        "    break\n",
        "  print(i,end = \"\")"
      ],
      "metadata": {
        "colab": {
          "base_uri": "https://localhost:8080/"
        },
        "id": "6znhP_wnl8vh",
        "outputId": "66725cb0-d892-4645-9005-cbdd3ab5704f"
      },
      "execution_count": null,
      "outputs": [
        {
          "output_type": "stream",
          "name": "stdout",
          "text": [
            "12"
          ]
        }
      ]
    },
    {
      "cell_type": "code",
      "source": [
        "count = 0\n",
        "for string in \"hello\":\n",
        "  count+=1\n",
        "  if string ==\"o\":\n",
        "    break\n",
        "  print(string)\n",
        "print(\"迴圈結束\")\n",
        "print(\"迴圈執行了執行了 %d 次\"%count)\n"
      ],
      "metadata": {
        "colab": {
          "base_uri": "https://localhost:8080/"
        },
        "id": "DAcyPxh6l8x4",
        "outputId": "e722b715-cabf-4cbc-a5c4-c315499f707d"
      },
      "execution_count": null,
      "outputs": [
        {
          "output_type": "stream",
          "name": "stdout",
          "text": [
            "h\n",
            "e\n",
            "l\n",
            "l\n",
            "迴圈結束\n",
            "迴圈執行了執行了 5 次\n"
          ]
        }
      ]
    },
    {
      "cell_type": "code",
      "source": [
        "count = 0\n",
        "for string in \"測試看看\":\n",
        "  count+=1\n",
        "  if string ==\"o\":\n",
        "    break\n",
        "  print(string)\n",
        "print(\"迴圈結束\")\n",
        "print(\"迴圈執行了執行了 %d 次\"%count)"
      ],
      "metadata": {
        "colab": {
          "base_uri": "https://localhost:8080/"
        },
        "id": "DyAy8G8Jl82n",
        "outputId": "95599298-c93c-4605-dfb6-81197d0dcdb0"
      },
      "execution_count": null,
      "outputs": [
        {
          "output_type": "stream",
          "name": "stdout",
          "text": [
            "測\n",
            "試\n",
            "看\n",
            "看\n",
            "迴圈結束\n",
            "迴圈執行了執行了 4 次\n"
          ]
        }
      ]
    },
    {
      "cell_type": "code",
      "source": [
        "s=\"\"\n",
        "for i in (1,2,3,4,5,6,7,8,9):\n",
        "    for j in(1,2,3,4,5,6,7,8,9):\n",
        "        s+=str(i)+\"*\"+str(j)+\"=\"+str(i*j)+\"\\t\"\n",
        "    s+=\"\\n\"\n",
        "print(s)"
      ],
      "metadata": {
        "id": "t4I4-cg5l85M",
        "colab": {
          "base_uri": "https://localhost:8080/"
        },
        "outputId": "f2f50e3b-c1ff-45e3-adcb-a164dae1a331"
      },
      "execution_count": 1,
      "outputs": [
        {
          "output_type": "stream",
          "name": "stdout",
          "text": [
            "1*1=1\t1*2=2\t1*3=3\t1*4=4\t1*5=5\t1*6=6\t1*7=7\t1*8=8\t1*9=9\t\n",
            "2*1=2\t2*2=4\t2*3=6\t2*4=8\t2*5=10\t2*6=12\t2*7=14\t2*8=16\t2*9=18\t\n",
            "3*1=3\t3*2=6\t3*3=9\t3*4=12\t3*5=15\t3*6=18\t3*7=21\t3*8=24\t3*9=27\t\n",
            "4*1=4\t4*2=8\t4*3=12\t4*4=16\t4*5=20\t4*6=24\t4*7=28\t4*8=32\t4*9=36\t\n",
            "5*1=5\t5*2=10\t5*3=15\t5*4=20\t5*5=25\t5*6=30\t5*7=35\t5*8=40\t5*9=45\t\n",
            "6*1=6\t6*2=12\t6*3=18\t6*4=24\t6*5=30\t6*6=36\t6*7=42\t6*8=48\t6*9=54\t\n",
            "7*1=7\t7*2=14\t7*3=21\t7*4=28\t7*5=35\t7*6=42\t7*7=49\t7*8=56\t7*9=63\t\n",
            "8*1=8\t8*2=16\t8*3=24\t8*4=32\t8*5=40\t8*6=48\t8*7=56\t8*8=64\t8*9=72\t\n",
            "9*1=9\t9*2=18\t9*3=27\t9*4=36\t9*5=45\t9*6=54\t9*7=63\t9*8=72\t9*9=81\t\n",
            "\n"
          ]
        }
      ]
    },
    {
      "cell_type": "code",
      "source": [
        "a = int(input(\"請輸入a的值：\"))\n",
        "b = int(input(\"請輸入b的值：\"))\n",
        "for i in range(1, (a*b)+1):\n",
        "    if(i %a == 0 and i %b == 0):\n",
        "        break\n",
        "print(\"%d 和 %d 的最小公倍數=%d \" %(a,b,i))\n",
        "a = int(input(\"請輸入a的值：\"))\n",
        "b = int(input(\"請輸入b的值：\"))\n",
        "for i in range(1, (a*b)+1):\n",
        "    if(i %a == 0 and i %b == 0):\n",
        "        break\n",
        "print(\"%d 和 %d 的最小公倍數=%d \" %(a,b,i))"
      ],
      "metadata": {
        "id": "TsXSSez-l87G",
        "colab": {
          "base_uri": "https://localhost:8080/"
        },
        "outputId": "8947dc55-3ba0-4743-d2f0-5ed2129a8957"
      },
      "execution_count": 2,
      "outputs": [
        {
          "output_type": "stream",
          "name": "stdout",
          "text": [
            "請輸入a的值：4\n",
            "請輸入b的值：6\n",
            "4 和 6 的最小公倍數=12 \n",
            "請輸入a的值：9\n",
            "請輸入b的值：15\n",
            "9 和 15 的最小公倍數=45 \n"
          ]
        }
      ]
    },
    {
      "cell_type": "code",
      "source": [
        "n = int(input(\"請輸入正整數：\"))\n",
        "for i in range(1,n+1):\n",
        "    if i % 5 == 0:\n",
        "      continue\n",
        "    print(i,end=\" \")"
      ],
      "metadata": {
        "id": "i2Ro3pmkl89k",
        "colab": {
          "base_uri": "https://localhost:8080/"
        },
        "outputId": "a167e83b-3553-49fd-b822-c549da0a7f3d"
      },
      "execution_count": 3,
      "outputs": [
        {
          "output_type": "stream",
          "name": "stdout",
          "text": [
            "請輸入正整數：12\n",
            "1 2 3 4 6 7 8 9 11 12 "
          ]
        }
      ]
    },
    {
      "cell_type": "code",
      "source": [
        "n = int(input(\"請輸入正整數：\"))\n",
        "for i in range(1,n+1):\n",
        "    if i % 5 == 0:\n",
        "      continue\n",
        "    print(i,end=\" \")"
      ],
      "metadata": {
        "id": "py6PSIPml8_v",
        "colab": {
          "base_uri": "https://localhost:8080/"
        },
        "outputId": "9d364cfa-ffa7-46cf-c073-e46011b6ea8a"
      },
      "execution_count": 4,
      "outputs": [
        {
          "output_type": "stream",
          "name": "stdout",
          "text": [
            "請輸入正整數：21\n",
            "1 2 3 4 6 7 8 9 11 12 13 14 16 17 18 19 21 "
          ]
        }
      ]
    },
    {
      "cell_type": "code",
      "source": [
        ""
      ],
      "metadata": {
        "id": "QV0YL4Vhl9CE"
      },
      "execution_count": null,
      "outputs": []
    },
    {
      "cell_type": "code",
      "source": [
        ""
      ],
      "metadata": {
        "id": "WRwiwi53l9EO"
      },
      "execution_count": null,
      "outputs": []
    },
    {
      "cell_type": "code",
      "source": [
        ""
      ],
      "metadata": {
        "id": "A3dwAXsml9G-"
      },
      "execution_count": null,
      "outputs": []
    }
  ]
}