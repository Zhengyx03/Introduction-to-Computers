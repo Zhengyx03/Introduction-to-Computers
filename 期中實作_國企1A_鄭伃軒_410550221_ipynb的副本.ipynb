{
  "nbformat": 4,
  "nbformat_minor": 0,
  "metadata": {
    "colab": {
      "name": "期中實作_國企1A_鄭伃軒_410550221.ipynb的副本",
      "provenance": [],
      "authorship_tag": "ABX9TyM9Biussd9oMSvAk6uOcd7X",
      "include_colab_link": true
    },
    "kernelspec": {
      "name": "python3",
      "display_name": "Python 3"
    },
    "language_info": {
      "name": "python"
    }
  },
  "cells": [
    {
      "cell_type": "markdown",
      "metadata": {
        "id": "view-in-github",
        "colab_type": "text"
      },
      "source": [
        "<a href=\"https://colab.research.google.com/github/Zhengyx03/Introduction-to-Computers/blob/main/%E6%9C%9F%E4%B8%AD%E5%AF%A6%E4%BD%9C_%E5%9C%8B%E4%BC%811A_%E9%84%AD%E4%BC%83%E8%BB%92_410550221_ipynb%E7%9A%84%E5%89%AF%E6%9C%AC.ipynb\" target=\"_parent\"><img src=\"https://colab.research.google.com/assets/colab-badge.svg\" alt=\"Open In Colab\"/></a>"
      ]
    },
    {
      "cell_type": "code",
      "execution_count": null,
      "metadata": {
        "colab": {
          "base_uri": "https://localhost:8080/"
        },
        "id": "3b6GmBmncekZ",
        "outputId": "18f06a1a-0c15-45af-bf4d-9db861d03578"
      },
      "outputs": [
        {
          "output_type": "stream",
          "name": "stdout",
          "text": [
            "班級:國企1A\n",
            "姓名:鄭伃軒\n",
            "學號:410550221\n"
          ]
        }
      ],
      "source": [
        "print('班級:國企1A')\n",
        "print('姓名:鄭伃軒')\n",
        "print('學號:410550221')"
      ]
    },
    {
      "cell_type": "code",
      "source": [
        "month = input('請輸入月份:')\n",
        "day = input('請輸入日期:')\n",
        "week = input('請輸入今天是星期幾:')\n",
        "print('今天是: %c月, %c號, 星期%c ' %(month,day,week))"
      ],
      "metadata": {
        "colab": {
          "base_uri": "https://localhost:8080/"
        },
        "id": "YqUTVO1te-bV",
        "outputId": "1d2e7249-cfe5-481a-f1e3-81cb17121cc1"
      },
      "execution_count": null,
      "outputs": [
        {
          "output_type": "stream",
          "name": "stdout",
          "text": [
            "請輸入月份:1\n",
            "請輸入日期:1\n",
            "請輸入今天是星期幾:1\n",
            "今天是: 1月, 1號, 星期1 \n"
          ]
        }
      ]
    },
    {
      "cell_type": "code",
      "source": [
        "上底=int(input('請輸入梯形上底長度:'))\n",
        "下底=int(input('請輸入梯形下底長度:'))\n",
        "高=int(input('請輸入梯形的高度:'))\n",
        "面積 = ( 上底 + 下底 ) * 高 / 2\n",
        "print('梯形上底長度為: %d,梯形下底長度為: %d,梯形高度為: %d,梯形面積為: %.2f' % (上底,下底,高,面積))"
      ],
      "metadata": {
        "colab": {
          "base_uri": "https://localhost:8080/"
        },
        "id": "kGOkFck5ktef",
        "outputId": "0e22a3e5-a84c-4b9e-8113-88adf0ee09cf"
      },
      "execution_count": null,
      "outputs": [
        {
          "output_type": "stream",
          "name": "stdout",
          "text": [
            "請輸入梯形上底長度:4\n",
            "請輸入梯形下底長度:5\n",
            "請輸入梯形的高度:4\n",
            "梯形上底長度為: 4,梯形下底長度為: 5,梯形高度為: 4,梯形面積為: 18.00\n"
          ]
        }
      ]
    },
    {
      "cell_type": "code",
      "source": [
        "height = float(input(\"請輸入您的身高(cm):\"))\n",
        "weight = float(input(\"請輸入您的體重(kg):\"))\n",
        "bmi = weight / (height/100)**2\n",
        "print('身高 %d 公分,體重 %d 公斤, BMI值為 %.3f' % (height, weight, bmi))"
      ],
      "metadata": {
        "colab": {
          "base_uri": "https://localhost:8080/"
        },
        "id": "AfCGFAxeqOEX",
        "outputId": "b2c39446-5b5b-44a1-ef26-b5ebc2434fc5"
      },
      "execution_count": null,
      "outputs": [
        {
          "output_type": "stream",
          "name": "stdout",
          "text": [
            "請輸入您的身高(cm):180\n",
            "請輸入您的體重(kg):60\n",
            "身高 180 公分,體重 60 公斤, BMI值為 18.519\n"
          ]
        }
      ]
    },
    {
      "cell_type": "code",
      "source": [
        "num = int(input(\"請輸入正整數: \"))\n",
        "if (num % 2) == 0:\n",
        "   print(\"{0} 為偶數！\".format(num))\n",
        "else:\n",
        "   print(\"{0} 為奇數！\".format(num))\n",
        "num = int(input(\"請輸入正整數: \"))\n",
        "if (num % 2) == 0:\n",
        "   print(\"{0} 為偶數！\".format(num))\n",
        "else:\n",
        "   print(\"{0} 為奇數！\".format(num))"
      ],
      "metadata": {
        "colab": {
          "base_uri": "https://localhost:8080/"
        },
        "id": "g3V1molhqp6d",
        "outputId": "585327a4-d8c4-4484-939f-90e1e653af88"
      },
      "execution_count": null,
      "outputs": [
        {
          "output_type": "stream",
          "name": "stdout",
          "text": [
            "請輸入正整數: 50\n",
            "50 為偶數！\n",
            "請輸入正整數: 51\n",
            "51 為奇數！\n"
          ]
        }
      ]
    },
    {
      "cell_type": "code",
      "source": [
        "temp = input(\"請輸入你的體溫？\")\n",
        "if(temp>\"37.5\" or temp<\"36\"):\n",
        "    print(\"體溫異常,請重新量測！\")\n",
        "else :\n",
        "    print('體溫正常,請進校園！')\n",
        "\n",
        "temp = input(\"請輸入你的體溫？\")\n",
        "if(temp>\"37.5\" or temp<\"36\"):\n",
        "    print(\"體溫異常,請重新量測！\")\n",
        "else :\n",
        "    print('體溫正常,請進校園！')\n"
      ],
      "metadata": {
        "colab": {
          "base_uri": "https://localhost:8080/"
        },
        "id": "-5DsYDx6sMmd",
        "outputId": "507b9bdd-41fa-4c13-b7f8-9eb9a8a01e7a"
      },
      "execution_count": null,
      "outputs": [
        {
          "output_type": "stream",
          "name": "stdout",
          "text": [
            "請輸入你的體溫？34\n",
            "體溫異常,請重新量測！\n",
            "請輸入你的體溫？37.4\n",
            "體溫正常,請進校園！\n"
          ]
        }
      ]
    }
  ]
}