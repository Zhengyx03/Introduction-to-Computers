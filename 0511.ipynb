{
  "nbformat": 4,
  "nbformat_minor": 0,
  "metadata": {
    "colab": {
      "name": "0511.ipynb",
      "provenance": [],
      "authorship_tag": "ABX9TyM09/dRdxaoNxZOF8CWMdvl",
      "include_colab_link": true
    },
    "kernelspec": {
      "name": "python3",
      "display_name": "Python 3"
    },
    "language_info": {
      "name": "python"
    }
  },
  "cells": [
    {
      "cell_type": "markdown",
      "metadata": {
        "id": "view-in-github",
        "colab_type": "text"
      },
      "source": [
        "<a href=\"https://colab.research.google.com/github/Zhengyx03/Introduction-to-Computers/blob/main/0511.ipynb\" target=\"_parent\"><img src=\"https://colab.research.google.com/assets/colab-badge.svg\" alt=\"Open In Colab\"/></a>"
      ]
    },
    {
      "cell_type": "code",
      "execution_count": null,
      "metadata": {
        "colab": {
          "base_uri": "https://localhost:8080/"
        },
        "id": "02K77xg6hhqU",
        "outputId": "4f1d1171-d97e-4f32-f997-065bd730a9b8"
      },
      "outputs": [
        {
          "output_type": "stream",
          "name": "stdout",
          "text": [
            "test\n"
          ]
        }
      ],
      "source": [
        "print(\"test\")"
      ]
    },
    {
      "cell_type": "code",
      "source": [
        "temp = float(input(\"請輸入你的體溫\"))\n",
        "if temp >= 37.5:\n",
        "  print(\"體溫過高!\")\n",
        "elif temp >= 37 and temp < 37.4:\n",
        "  print(\"體溫略高!\")\n",
        "elif temp >= 34 and temp < 36.9:\n",
        "  print(\"體溫正常!\")\n",
        "else: \n",
        "  print(\"體溫異常,請重新量測!\")"
      ],
      "metadata": {
        "colab": {
          "base_uri": "https://localhost:8080/"
        },
        "id": "gGuP5TIniXKI",
        "outputId": "6a5f1f26-0022-4713-e41d-7561495c804e"
      },
      "execution_count": null,
      "outputs": [
        {
          "output_type": "stream",
          "name": "stdout",
          "text": [
            "請輸入你的體溫36\n",
            "體溫正常!\n"
          ]
        }
      ]
    },
    {
      "cell_type": "code",
      "source": [
        "money = int(input(\"請輸入購物金額:\"))\n",
        "if(money>=10000):\n",
        "  if(money>=100000):\n",
        "    print(\"八折\", money * 0.8, end = \"元\\n\")\n",
        "  elif(money>=50000):\n",
        "    print(\"八五折\", money * 0.85, end = \"元\\n\")\n",
        "  elif(money>=30000): \n",
        "    print(\"九折\", money * 0.9, end = \"元\\n\")\n",
        "  else:\n",
        "    print(\"九五折\", money * 0.95, end = \"元\\n\")\n",
        "else:\n",
        "  print(\"沒打折\", money, end= \"元\\n\")"
      ],
      "metadata": {
        "colab": {
          "base_uri": "https://localhost:8080/"
        },
        "id": "UQW-e3rflexP",
        "outputId": "36d22eb3-4ffa-41ff-a40d-7bbc81af2e0a"
      },
      "execution_count": null,
      "outputs": [
        {
          "output_type": "stream",
          "name": "stdout",
          "text": [
            "請輸入購物金額:50000\n",
            "八五折 42500.0元\n"
          ]
        }
      ]
    },
    {
      "cell_type": "code",
      "source": [
        "month = int(input(\"請輸入月份\"))\n",
        "if (month == 3,4,5):\n",
        "  print(\" %d 月是春天!\"%(month))\n",
        "elif (month == 6,7,8):\n",
        "  print(\" %d 月是夏天!\"%(month))\n",
        "elif (month == 9,10,11):\n",
        "  print(\" %d 月是秋天!\"%(month))\n",
        "elif (month == 12,1,2):\n",
        "  print(\" %d 月是冬天!\"%(month))\n",
        "else:\n",
        "  print(\"月份不在範圍內!\")"
      ],
      "metadata": {
        "colab": {
          "base_uri": "https://localhost:8080/"
        },
        "id": "eRhSfyv3qgt-",
        "outputId": "637e4553-3e48-4ff8-89a2-e6552bdc14a0"
      },
      "execution_count": 11,
      "outputs": [
        {
          "output_type": "stream",
          "name": "stdout",
          "text": [
            "請輸入月份4\n",
            " 4 月是春天!\n"
          ]
        }
      ]
    },
    {
      "cell_type": "code",
      "source": [
        "Tax = float(input(\"請輸入今年收入淨額\"))\n",
        "if (Tax >=2000000):\n",
        "  print(\"付稅金額\", Tax*0.3 ,end= \"元\\n\")\n",
        "elif (2000000> Tax >=1000000):\n",
        "  print(\"付稅金額\", Tax*0.21 ,end= \"元\\n\")\n",
        "elif (1000000> Tax >=600000):\n",
        "  print(\"付稅金額\", Tax*0.13 ,end= \"元\\n\")\n",
        "elif (600000> Tax >=300000):\n",
        "  print(\"付稅金額\", Tax*0.06 ,end= \"元\\n\")\n",
        "else:\n",
        "  print(\"付稅金額\", 0 ,end= \"元\\n\")\n",
        "Tax = float(input(\"請輸入今年收入淨額\"))\n",
        "if (Tax >=2000000):\n",
        "  print(\"付稅金額\", Tax*0.3 ,end= \"元\\n\")\n",
        "elif (2000000> Tax >=1000000):\n",
        "  print(\"付稅金額\", Tax*0.21 ,end= \"元\\n\")\n",
        "elif (1000000> Tax >=600000):\n",
        "  print(\"付稅金額\", Tax*0.13 ,end= \"元\\n\")\n",
        "elif (600000> Tax >=300000):\n",
        "  print(\"付稅金額\", Tax*0.06 ,end= \"元\\n\")\n",
        "else:\n",
        "  print(\"付稅金額\", 0 ,end= \"元\\n\")"
      ],
      "metadata": {
        "colab": {
          "base_uri": "https://localhost:8080/"
        },
        "id": "WUeg4VUIpHsn",
        "outputId": "f6265c1e-b08b-4bd9-e6e3-c9f5ea51898b"
      },
      "execution_count": 37,
      "outputs": [
        {
          "output_type": "stream",
          "name": "stdout",
          "text": [
            "請輸入今年收入淨額100000\n",
            "付稅金額 0元\n",
            "請輸入今年收入淨額2000000\n",
            "付稅金額 600000.0元\n"
          ]
        }
      ]
    },
    {
      "cell_type": "code",
      "source": [
        "grade = int(input(\"請輸入成績\"))\n",
        "if (grade >=90):\n",
        "  print(\"A\")\n",
        "elif (90>grade>=80):\n",
        "  print(\"B\")\n",
        "elif (80>grade>=70):\n",
        "  print(\"C\")\n",
        "elif (70>grade>=60):\n",
        "  print(\"D\")\n",
        "else:\n",
        "  print(\"E\")\n",
        "grade = int(input(\"請輸入成績\"))\n",
        "if (grade >=90):\n",
        "  print(\"A\")\n",
        "elif (90>grade>=80):\n",
        "  print(\"B\")\n",
        "elif (80>grade>=70):\n",
        "  print(\"C\")\n",
        "elif (70>grade>=60):\n",
        "  print(\"D\")\n",
        "else:\n",
        "  print(\"E\")\n",
        "grade = int(input(\"請輸入成績\"))\n",
        "if (grade >=90):\n",
        "  print(\"A\")\n",
        "elif (90>grade>=80):\n",
        "  print(\"B\")\n",
        "elif (80>grade>=70):\n",
        "  print(\"C\")\n",
        "elif (70>grade>=60):\n",
        "  print(\"D\")\n",
        "else:\n",
        "  print(\"E\")"
      ],
      "metadata": {
        "colab": {
          "base_uri": "https://localhost:8080/"
        },
        "id": "M4JNqOzlgYHy",
        "outputId": "8304b690-6110-47db-c146-8c6db727ddd5"
      },
      "execution_count": 31,
      "outputs": [
        {
          "output_type": "stream",
          "name": "stdout",
          "text": [
            "請輸入成績90\n",
            "A\n",
            "請輸入成績80\n",
            "B\n",
            "請輸入成績50\n",
            "E\n"
          ]
        }
      ]
    }
  ]
}